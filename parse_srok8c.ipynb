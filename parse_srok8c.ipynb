{
 "cells": [
  {
   "cell_type": "code",
   "execution_count": 2,
   "id": "e37d8d2f-142b-41b0-b628-caa77c8a74a2",
   "metadata": {
    "tags": []
   },
   "outputs": [],
   "source": [
    "import numpy as np\n",
    "\n",
    "from data_path import DATA_PATH_SROK8C"
   ]
  },
  {
   "cell_type": "code",
   "execution_count": 3,
   "id": "50b691ff-85a5-42fa-a30e-c485b7d5d3d2",
   "metadata": {
    "scrolled": true,
    "tags": []
   },
   "outputs": [],
   "source": [
    "file = open(DATA_PATH_SROK8C+\"20046.dat\")"
   ]
  },
  {
   "cell_type": "code",
   "execution_count": 4,
   "id": "4b92dc4c-e071-4332-aed6-6526d83924f3",
   "metadata": {
    "tags": []
   },
   "outputs": [
    {
     "data": {
      "text/plain": [
       "'20046 1965 12 31 18 1966  1  1 21  1 23  4 20    7 0  0 0  0 0  0 0  0 0  0 0  0 0  0 0      5 0    7  0 0  2 0   0 0  0 0 0    7 0        7 -39.0 0       7       7       7       7 -36.1 0       7 0       7       7       7       7       7 1  79 0    0.10 0 1 -38.0 0 1012.6 0 1015.7 0  2 0  0.2 0\\n'"
      ]
     },
     "execution_count": 4,
     "metadata": {},
     "output_type": "execute_result"
    }
   ],
   "source": [
    "file.readline()"
   ]
  },
  {
   "cell_type": "code",
   "execution_count": 7,
   "id": "0b1ffd48-aaba-4f65-8e9f-22d30d05eee7",
   "metadata": {
    "tags": []
   },
   "outputs": [
    {
     "data": {
      "text/plain": [
       "1"
      ]
     },
     "execution_count": 7,
     "metadata": {},
     "output_type": "execute_result"
    }
   ],
   "source": [
    "int(\"01\")"
   ]
  },
  {
   "cell_type": "code",
   "execution_count": null,
   "id": "43d6aabb-d053-4b3e-88cc-add6b8774185",
   "metadata": {},
   "outputs": [],
   "source": [
    "VALID_QUALITIES = [0, 1, 2]\n",
    "\n",
    "def dictFromSrok8cDatFile(stationSynopticIndex: int):\n",
    "    d = {\n",
    "        \"GMT year\" : list(),\n",
    "        \"GMT month\" : list(),\n",
    "        \"GMT day\" : list(),\n",
    "        \"GMT period\" : list(),\n",
    "        \"Year of source (local)\" : list(),\n",
    "        \"Month of source (local)\" : list(),\n",
    "        \"Day of source (local)\" : list(),\n",
    "        \"Source period\" : list(),\n",
    "        \"Local time\" : list(),\n",
    "        \"Horizontal visibility (km)\" : list(),\n",
    "        \"Total cloud amount (points)\"\n",
    "    }\n",
    "\n",
    "def hrzVsbltInKm(code: str, quality: int):\n",
    "    res = np.nan\n",
    "    if quality in VALID_QUALITIES:\n",
    "        if code == \"00\":\n",
    "            res = 0.99\n",
    "        elif code in genCodes(1, 50+1):\n",
    "            res = float(int(code)) / 10.0\n",
    "        elif code in genCodes(56, 80+1):\n",
    "            res = float(code) - 50.0\n",
    "        elif code in genCodes(81, 88+1):\n",
    "            res = (float(code) - 76.0) * 5.0\n",
    "        elif code == \"89\":\n",
    "            res = 70.01\n",
    "        elif code == \"90\":\n",
    "            res = 0.0499\n",
    "        elif code == \"91\":\n",
    "            res = 0.05\n",
    "        elif code == \"92\":\n",
    "            res = 0.2\n",
    "        elif code == \"93\":\n",
    "            res = 0.3\n",
    "        elif code == \"94\":\n",
    "            res = 1.0\n",
    "        elif code == \"95\":\n",
    "            res = 2.0\n",
    "        elif code == \"96\":\n",
    "            res = 4.0\n",
    "        elif code == \"97\":\n",
    "            res = 10.0\n",
    "        elif code == \"98\":\n",
    "            res = 20.0\n",
    "        elif code == \"99\":\n",
    "            res = 50.01    \n",
    "    return res\n",
    "\n",
    "def genCodes(start, end):\n",
    "    res = list()\n",
    "    if end > 99:\n",
    "        return np.nan\n",
    "    for i in range(start, end):\n",
    "        if i < 10:\n",
    "            res += [f\"0{i}\"]\n",
    "        else:\n",
    "            res += [f\"{i}\"]\n",
    "    return res"
   ]
  }
 ],
 "metadata": {
  "kernelspec": {
   "display_name": "Python 3 (ipykernel)",
   "language": "python",
   "name": "python3"
  },
  "language_info": {
   "codemirror_mode": {
    "name": "ipython",
    "version": 3
   },
   "file_extension": ".py",
   "mimetype": "text/x-python",
   "name": "python",
   "nbconvert_exporter": "python",
   "pygments_lexer": "ipython3",
   "version": "3.10.12"
  }
 },
 "nbformat": 4,
 "nbformat_minor": 5
}
